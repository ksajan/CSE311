{
 "cells": [
  {
   "cell_type": "markdown",
   "metadata": {},
   "source": [
    "# *Question 4*\n",
    "### **Feed_forward error Back propagation learning for multilayer neural network having one hidden layer**\n",
    "\n",
    "### Importing useful Libraries"
   ]
  },
  {
   "cell_type": "code",
   "execution_count": 23,
   "metadata": {},
   "outputs": [],
   "source": [
    "# Importig random library for genrating random numbers for calculating iitial weights\n",
    "from random import seed\n",
    "from random import randrange\n",
    "from random import random\n",
    "from math import exp\n",
    "from csv import reader #importing random function to genrate weights\n",
    "import numpy as np\n",
    "import pandas as pd"
   ]
  },
  {
   "cell_type": "markdown",
   "metadata": {},
   "source": [
    "### Load a CSV file"
   ]
  },
  {
   "cell_type": "code",
   "execution_count": 2,
   "metadata": {},
   "outputs": [],
   "source": [
    "def load_csv(filename):\n",
    "    dataset = list()\n",
    "    with open(filename, 'r') as file:\n",
    "        csv_reader = reader(file)\n",
    "        for row in csv_reader:\n",
    "            if not row:\n",
    "                continue\n",
    "            dataset.append(row)\n",
    "    return dataset"
   ]
  },
  {
   "cell_type": "markdown",
   "metadata": {},
   "source": [
    "### Convert string column to integer"
   ]
  },
  {
   "cell_type": "code",
   "execution_count": 3,
   "metadata": {},
   "outputs": [],
   "source": [
    "def str_column_to_float(dataset, column):\n",
    "    for row in dataset:\n",
    "        row[column] = float(row[column].strip())"
   ]
  },
  {
   "cell_type": "markdown",
   "metadata": {},
   "source": [
    "### Convert string column to float"
   ]
  },
  {
   "cell_type": "code",
   "execution_count": 4,
   "metadata": {},
   "outputs": [],
   "source": [
    "def str_column_to_int(dataset, column):\n",
    "    class_values = [row[column] for row in dataset]\n",
    "    unique = set(class_values)\n",
    "    lookup = dict()\n",
    "    for i, value in enumerate(unique):\n",
    "        lookup[value] = i\n",
    "    for row in dataset:\n",
    "        row[column] = lookup[row[column]]\n",
    "    return lookup"
   ]
  },
  {
   "cell_type": "markdown",
   "metadata": {},
   "source": [
    "### Find the min and max values for each column"
   ]
  },
  {
   "cell_type": "code",
   "execution_count": 5,
   "metadata": {},
   "outputs": [],
   "source": [
    "def dataset_minmax(dataset):\n",
    "    minmax = list()\n",
    "    stats = [[min(column), max(column)] for column in zip(*dataset)]\n",
    "    return stats"
   ]
  },
  {
   "cell_type": "markdown",
   "metadata": {},
   "source": [
    "### Rescale dataset columns to the range 0-1"
   ]
  },
  {
   "cell_type": "code",
   "execution_count": 6,
   "metadata": {},
   "outputs": [],
   "source": [
    "def normalize_dataset(dataset, minmax):\n",
    "    for row in dataset:\n",
    "        for i in range(len(row)-1):\n",
    "            row[i] = (row[i] - minmax[i][0]) / (minmax[i][1] - minmax[i][0])"
   ]
  },
  {
   "cell_type": "markdown",
   "metadata": {},
   "source": [
    "### Split a dataset into k folds"
   ]
  },
  {
   "cell_type": "code",
   "execution_count": 7,
   "metadata": {},
   "outputs": [],
   "source": [
    "def cross_validation_split(dataset, n_folds):\n",
    "    dataset_split = list()\n",
    "    dataset_copy = list(dataset)\n",
    "    fold_size = int(len(dataset) / n_folds)\n",
    "    for i in range(n_folds):\n",
    "        fold = list()\n",
    "        while len(fold) < fold_size:\n",
    "            index = randrange(len(dataset_copy))\n",
    "            fold.append(dataset_copy.pop(index))\n",
    "        dataset_split.append(fold)\n",
    "    return dataset_split"
   ]
  },
  {
   "cell_type": "markdown",
   "metadata": {},
   "source": [
    "### Calculate accuracy percentage"
   ]
  },
  {
   "cell_type": "code",
   "execution_count": 8,
   "metadata": {},
   "outputs": [],
   "source": [
    "def accuracy_metric(actual, predicted):\n",
    "    correct = 0\n",
    "    for i in range(len(actual)):\n",
    "        if actual[i] == predicted[i]:\n",
    "            correct += 1\n",
    "    return correct / float(len(actual)) * 100.0"
   ]
  },
  {
   "cell_type": "markdown",
   "metadata": {},
   "source": [
    "### Evaluate an algorithm using a cross validation split"
   ]
  },
  {
   "cell_type": "code",
   "execution_count": 9,
   "metadata": {},
   "outputs": [],
   "source": [
    "def evaluate_algorithm(dataset, algorithm, n_folds, *args):\n",
    "    folds = cross_validation_split(dataset, n_folds)\n",
    "    scores = list()\n",
    "    for fold in folds:\n",
    "        train_set = list(folds)\n",
    "        train_set.remove(fold)\n",
    "        train_set = sum(train_set, [])\n",
    "        test_set = list()\n",
    "        for row in fold:\n",
    "            row_copy = list(row)\n",
    "            test_set.append(row_copy)\n",
    "            row_copy[-1] = None\n",
    "        predicted = algorithm(train_set, test_set, *args)\n",
    "        actual = [row[-1] for row in fold]\n",
    "        accuracy = accuracy_metric(actual, predicted)\n",
    "        scores.append(accuracy)\n",
    "    return scores"
   ]
  },
  {
   "cell_type": "markdown",
   "metadata": {},
   "source": [
    "### Calculate neuron activation for an input"
   ]
  },
  {
   "cell_type": "code",
   "execution_count": 10,
   "metadata": {},
   "outputs": [],
   "source": [
    "def activate(weights, inputs):\n",
    "    activation = weights[-1]\n",
    "    for i in range(len(weights)-1):\n",
    "        activation += weights[i] * inputs[i]\n",
    "    return activation"
   ]
  },
  {
   "cell_type": "markdown",
   "metadata": {},
   "source": [
    "### Transfer neuron activation"
   ]
  },
  {
   "cell_type": "code",
   "execution_count": 11,
   "metadata": {},
   "outputs": [],
   "source": [
    "def transfer(activation):\n",
    "    return 1.0 / (1.0 + exp(-activation))"
   ]
  },
  {
   "cell_type": "markdown",
   "metadata": {},
   "source": [
    "### Forward propagate input to a network output"
   ]
  },
  {
   "cell_type": "code",
   "execution_count": 12,
   "metadata": {},
   "outputs": [],
   "source": [
    "def forward_propagate(network, row):\n",
    "    inputs = row\n",
    "    for layer in network:\n",
    "        new_inputs = []\n",
    "        for neuron in layer:\n",
    "            activation = activate(neuron['weights'], inputs)\n",
    "            neuron['output'] = transfer(activation)\n",
    "            new_inputs.append(neuron['output'])\n",
    "        inputs = new_inputs\n",
    "    return inputs"
   ]
  },
  {
   "cell_type": "markdown",
   "metadata": {},
   "source": [
    "### Calculate the derivative of an neuron output"
   ]
  },
  {
   "cell_type": "code",
   "execution_count": 13,
   "metadata": {},
   "outputs": [],
   "source": [
    "def transfer_derivative(output):\n",
    "    return output * (1.0 - output)"
   ]
  },
  {
   "cell_type": "markdown",
   "metadata": {},
   "source": [
    "### Backpropagate error and store in neurons"
   ]
  },
  {
   "cell_type": "code",
   "execution_count": 14,
   "metadata": {},
   "outputs": [],
   "source": [
    "def backward_propagate_error(network, expected):\n",
    "    for i in reversed(range(len(network))):\n",
    "        layer = network[i]\n",
    "        errors = list()\n",
    "        if i != len(network)-1:\n",
    "            for j in range(len(layer)):\n",
    "                error = 0.0\n",
    "                for neuron in network[i + 1]:\n",
    "                    error += (neuron['weights'][j] * neuron['delta'])\n",
    "                errors.append(error)\n",
    "        else:\n",
    "            for j in range(len(layer)):\n",
    "                neuron = layer[j]\n",
    "                errors.append(expected[j] - neuron['output'])\n",
    "        for j in range(len(layer)):\n",
    "            neuron = layer[j]\n",
    "            neuron['delta'] = errors[j] * transfer_derivative(neuron['output'])"
   ]
  },
  {
   "cell_type": "markdown",
   "metadata": {},
   "source": [
    "### Update network weights with error"
   ]
  },
  {
   "cell_type": "code",
   "execution_count": 15,
   "metadata": {},
   "outputs": [],
   "source": [
    "def update_weights(network, row, l_rate):\n",
    "    for i in range(len(network)):\n",
    "        inputs = row[:-1]\n",
    "        if i != 0:\n",
    "            inputs = [neuron['output'] for neuron in network[i - 1]]\n",
    "        for neuron in network[i]:\n",
    "            for j in range(len(inputs)):\n",
    "                neuron['weights'][j] += l_rate * neuron['delta'] * inputs[j]\n",
    "            neuron['weights'][-1] += l_rate * neuron['delta']"
   ]
  },
  {
   "cell_type": "markdown",
   "metadata": {},
   "source": [
    "### Train a network for a fixed number of epochs"
   ]
  },
  {
   "cell_type": "code",
   "execution_count": 16,
   "metadata": {},
   "outputs": [],
   "source": [
    "def train_network(network, train, l_rate, n_epoch, n_outputs):\n",
    "    for epoch in range(n_epoch):\n",
    "        for row in train:\n",
    "            outputs = forward_propagate(network, row)\n",
    "            expected = [0 for i in range(n_outputs)]\n",
    "            expected[row[-1]] = 1\n",
    "            backward_propagate_error(network, expected)\n",
    "            update_weights(network, row, l_rate)"
   ]
  },
  {
   "cell_type": "markdown",
   "metadata": {},
   "source": [
    "### Initialize a network"
   ]
  },
  {
   "cell_type": "code",
   "execution_count": 17,
   "metadata": {},
   "outputs": [],
   "source": [
    "def initialize_network(n_inputs, n_hidden, n_outputs):\n",
    "    network = list()\n",
    "    hidden_layer = [{'weights':[random() for i in range(n_inputs + 1)]} for i in range(n_hidden)]\n",
    "    network.append(hidden_layer)\n",
    "    output_layer = [{'weights':[random() for i in range(n_hidden + 1)]} for i in range(n_outputs)]\n",
    "    network.append(output_layer)\n",
    "    return network"
   ]
  },
  {
   "cell_type": "markdown",
   "metadata": {},
   "source": [
    "### Make a prediction with a network"
   ]
  },
  {
   "cell_type": "code",
   "execution_count": 18,
   "metadata": {},
   "outputs": [],
   "source": [
    "def predict(network, row):\n",
    "    outputs = forward_propagate(network, row)\n",
    "    return outputs.index(max(outputs))"
   ]
  },
  {
   "cell_type": "markdown",
   "metadata": {},
   "source": [
    "### Backpropagation Algorithm With Stochastic Gradient Descent"
   ]
  },
  {
   "cell_type": "code",
   "execution_count": 19,
   "metadata": {},
   "outputs": [],
   "source": [
    "def back_propagation(train, test, l_rate, n_epoch, n_hidden):\n",
    "    n_inputs = len(train[0]) - 1\n",
    "    n_outputs = len(set([row[-1] for row in train]))\n",
    "    network = initialize_network(n_inputs, n_hidden, n_outputs)\n",
    "    train_network(network, train, l_rate, n_epoch, n_outputs)\n",
    "    predictions = list()\n",
    "    for row in test:\n",
    "        prediction = predict(network, row)\n",
    "        predictions.append(prediction)\n",
    "    return(predictions)"
   ]
  },
  {
   "cell_type": "markdown",
   "metadata": {},
   "source": []
  },
  {
   "cell_type": "markdown",
   "metadata": {},
   "source": [
    "### One Hot Encoding"
   ]
  },
  {
   "cell_type": "code",
   "execution_count": 20,
   "metadata": {},
   "outputs": [
    {
     "data": {
      "text/html": [
       "<div>\n",
       "<style scoped>\n",
       "    .dataframe tbody tr th:only-of-type {\n",
       "        vertical-align: middle;\n",
       "    }\n",
       "\n",
       "    .dataframe tbody tr th {\n",
       "        vertical-align: top;\n",
       "    }\n",
       "\n",
       "    .dataframe thead th {\n",
       "        text-align: right;\n",
       "    }\n",
       "</style>\n",
       "<table border=\"1\" class=\"dataframe\">\n",
       "  <thead>\n",
       "    <tr style=\"text-align: right;\">\n",
       "      <th></th>\n",
       "      <th>Id</th>\n",
       "      <th>SepalLengthCm</th>\n",
       "      <th>SepalWidthCm</th>\n",
       "      <th>PetalLengthCm</th>\n",
       "      <th>PetalWidthCm</th>\n",
       "      <th>Species</th>\n",
       "    </tr>\n",
       "  </thead>\n",
       "  <tbody>\n",
       "    <tr>\n",
       "      <th>0</th>\n",
       "      <td>1</td>\n",
       "      <td>5.1</td>\n",
       "      <td>3.5</td>\n",
       "      <td>1.4</td>\n",
       "      <td>0.2</td>\n",
       "      <td>Iris-setosa</td>\n",
       "    </tr>\n",
       "    <tr>\n",
       "      <th>1</th>\n",
       "      <td>2</td>\n",
       "      <td>4.9</td>\n",
       "      <td>3.0</td>\n",
       "      <td>1.4</td>\n",
       "      <td>0.2</td>\n",
       "      <td>Iris-setosa</td>\n",
       "    </tr>\n",
       "    <tr>\n",
       "      <th>2</th>\n",
       "      <td>3</td>\n",
       "      <td>4.7</td>\n",
       "      <td>3.2</td>\n",
       "      <td>1.3</td>\n",
       "      <td>0.2</td>\n",
       "      <td>Iris-setosa</td>\n",
       "    </tr>\n",
       "    <tr>\n",
       "      <th>3</th>\n",
       "      <td>4</td>\n",
       "      <td>4.6</td>\n",
       "      <td>3.1</td>\n",
       "      <td>1.5</td>\n",
       "      <td>0.2</td>\n",
       "      <td>Iris-setosa</td>\n",
       "    </tr>\n",
       "    <tr>\n",
       "      <th>4</th>\n",
       "      <td>5</td>\n",
       "      <td>5.0</td>\n",
       "      <td>3.6</td>\n",
       "      <td>1.4</td>\n",
       "      <td>0.2</td>\n",
       "      <td>Iris-setosa</td>\n",
       "    </tr>\n",
       "  </tbody>\n",
       "</table>\n",
       "</div>"
      ],
      "text/plain": [
       "   Id  SepalLengthCm  SepalWidthCm  PetalLengthCm  PetalWidthCm      Species\n",
       "0   1            5.1           3.5            1.4           0.2  Iris-setosa\n",
       "1   2            4.9           3.0            1.4           0.2  Iris-setosa\n",
       "2   3            4.7           3.2            1.3           0.2  Iris-setosa\n",
       "3   4            4.6           3.1            1.5           0.2  Iris-setosa\n",
       "4   5            5.0           3.6            1.4           0.2  Iris-setosa"
      ]
     },
     "execution_count": 20,
     "metadata": {},
     "output_type": "execute_result"
    }
   ],
   "source": [
    "iris = pd.read_csv(\"Iris.csv\")\n",
    "iris.head()"
   ]
  },
  {
   "cell_type": "code",
   "execution_count": 21,
   "metadata": {},
   "outputs": [
    {
     "data": {
      "text/plain": [
       "array([[1., 0., 0.],\n",
       "       [1., 0., 0.],\n",
       "       [1., 0., 0.],\n",
       "       [1., 0., 0.],\n",
       "       [1., 0., 0.]])"
      ]
     },
     "execution_count": 21,
     "metadata": {},
     "output_type": "execute_result"
    }
   ],
   "source": [
    "from sklearn.preprocessing import OneHotEncoder\n",
    "one_hot_encoder = OneHotEncoder(sparse=False)\n",
    "\n",
    "Y = iris.Species\n",
    "Y = one_hot_encoder.fit_transform(np.array(Y).reshape(-1, 1))\n",
    "Y[:5]"
   ]
  },
  {
   "cell_type": "code",
   "execution_count": 24,
   "metadata": {},
   "outputs": [
    {
     "name": "stdout",
     "output_type": "stream",
     "text": [
      "Scores: [96.66666666666667, 96.66666666666667, 100.0, 93.33333333333333, 96.66666666666667]\n",
      "Mean Accuracy: 96.667%\n"
     ]
    }
   ],
   "source": [
    "# Test Backprop on Seeds dataset\n",
    "seed(1)\n",
    "# load and prepare data\n",
    "filename = 'Iris1.csv'\n",
    "dataset = load_csv(filename)\n",
    "for i in range(len(dataset[0])-1):\n",
    "    str_column_to_float(dataset, i)\n",
    "# convert class column to integers\n",
    "str_column_to_int(dataset, len(dataset[0])-1)\n",
    "# normalize input variables\n",
    "minmax = dataset_minmax(dataset)\n",
    "normalize_dataset(dataset, minmax)\n",
    "# evaluate algorithm\n",
    "n_folds = 5\n",
    "l_rate = 0.3\n",
    "n_epoch = 500\n",
    "n_hidden = 5\n",
    "scores = evaluate_algorithm(dataset, back_propagation, n_folds, l_rate, n_epoch, n_hidden)\n",
    "print('Scores: %s' % scores)\n",
    "print('Mean Accuracy: %.3f%%' % (sum(scores)/float(len(scores))))"
   ]
  },
  {
   "cell_type": "code",
   "execution_count": null,
   "metadata": {},
   "outputs": [],
   "source": []
  },
  {
   "cell_type": "markdown",
   "metadata": {},
   "source": [
    "### **Question 3**"
   ]
  },
  {
   "cell_type": "code",
   "execution_count": null,
   "metadata": {},
   "outputs": [],
   "source": [
    "import random\n",
    "\n",
    "class Net:\n",
    "    def __init__(self, inputD, outputD, weightB):\n",
    "        i = 1\n",
    "        x = 0\n",
    "        self.xneurons = {}\n",
    "        if weightB == 1:\n",
    "            x = 1\n",
    "        while i <= inputD:\n",
    "            self.xneurons[i] = Neuron(inputD, x)\n",
    "            i = i + 1\n",
    "        self.xneurons['b'] = Neuron(inputD, x)\n",
    "        j = 1\n",
    "        self.zneurons = {}\n",
    "        while j <= inputD:\n",
    "            self.zneurons[j] = Neuron(outputD, 2)\n",
    "            j = j + 1\n",
    "        self.zneurons['b'] = Neuron(outputD, 2)\n",
    "        k = 1\n",
    "        self.y = {}\n",
    "        while k <= outputD:\n",
    "            self.y[k] = 0\n",
    "            k = k + 1\n",
    "\n",
    "class Neuron:\n",
    "    def __init__(self, outputD, weightB):\n",
    "        i = 1\n",
    "        self.weights = {}\n",
    "        self.y = {}\n",
    "        while i <= outputD:\n",
    "            self.y[i] = 0\n",
    "            if int(weightB) == 0:\n",
    "                self.weights[i] = 0\n",
    "            # for the hidden layer\n",
    "            elif weightB is 2:\n",
    "                self.weights[i] = .5\n",
    "            else:\n",
    "                # this needs to be random\n",
    "                self.weights[i] = random.random();\n",
    "            i = i + 1\n",
    "        self.weights[1]\n",
    "        self.x = 0\n",
    "\n",
    "\n",
    "class InputVars:\n",
    "    def __init__(self, input, output, pairs, samples):\n",
    "        self.input = input\n",
    "        self.output = output\n",
    "        self.pairs = pairs\n",
    "        self.samples = samples\n",
    "\n",
    "\n",
    "class Sample:\n",
    "    def __init__(self, inputD, outputD, s, t):\n",
    "        self.x = {}\n",
    "        i = 1\n",
    "        while i <= inputD:\n",
    "            self.x[i] = s[i - 1]\n",
    "            i = i + 1\n",
    "        j = 1\n",
    "        self.t = {}\n",
    "        while j <= outputD:\n",
    "            self.t[j] = int(t)\n",
    "            j = j + 1\n",
    "\n",
    "\n",
    "def readFile(filename):\n",
    "    f = open(filename, 'r')\n",
    "\n",
    "    inputD = [int(s) for s in f.readline().split() if s.isdigit()]\n",
    "    inputD = inputD[0]\n",
    "    outputD = [int(s) for s in f.readline().split() if s.isdigit()]\n",
    "    outputD = outputD[0]\n",
    "    tpairs = [int(s) for s in f.readline().split() if s.isdigit()]\n",
    "    tpairs = tpairs[0]\n",
    "    f.readline()\n",
    "\n",
    "    t = 0\n",
    "    samples = {}\n",
    "    while t < tpairs:\n",
    "        s = f.readline().split()\n",
    "        target = f.readline()\n",
    "        f.readline()\n",
    "        tmp = Sample(inputD, outputD, s, target)\n",
    "        t = t + 1\n",
    "        samples[t] = tmp\n",
    "    return InputVars(inputD, outputD, tpairs, samples)"
   ]
  },
  {
   "cell_type": "code",
   "execution_count": 70,
   "metadata": {},
   "outputs": [],
   "source": [
    "def a1a():\n",
    "    weights_b = input(\"Enter 0 to initialize weights to zero, or any other key to set to random values:\\n\")\n",
    "    try:\n",
    "        if int(weights_b) is 0:\n",
    "            return 0\n",
    "        else:\n",
    "            return 1\n",
    "    except:\n",
    "        return 1\n",
    "\n",
    "\n",
    "def a1b():\n",
    "    max_epochs = input(\"Enter the maximum number of training epochs:\\n\")\n",
    "    try:\n",
    "        max_epochs = int(max_epochs)\n",
    "        if max_epochs > 0:\n",
    "            return max_epochs\n",
    "        else:\n",
    "            print(\"Negative numbers not allowed. Setting max epochs to 5.\")\n",
    "            return 5\n",
    "    except:\n",
    "        print(\"Input failed. Try again.\")\n",
    "        return a1b()\n",
    "\n",
    "\n",
    "def a1c():\n",
    "    alpha = input(\"Enter the desired learning rate:\\n\")\n",
    "    try:\n",
    "        alpha = float(alpha)\n",
    "        if alpha > 1.0:\n",
    "            print(\"Learning rate too large Enter an x value such that 0 < x <= 1.\")\n",
    "        elif alpha <= 0.0:\n",
    "            print(\"Learning rate is too small. Enter an x value such that 0 < x <= 1.\")\n",
    "        else:\n",
    "            return alpha\n",
    "        return a1c()\n",
    "    except:\n",
    "        print(\"Input failed. Try again.\")\n",
    "        return a1c()\n",
    "\n",
    "\n",
    "def a1d():\n",
    "    filename = input(\"Enter the file name where weights will be saved:\")\n",
    "    return filename\n",
    "\n",
    "\n",
    "def a1():\n",
    "    weights_b = a1a()\n",
    "    max_epochs = a1b()\n",
    "    learning_rate = a1c()\n",
    "    weight_file = a1d()\n",
    "\n",
    "    r = {}\n",
    "    r['w'] = weights_b\n",
    "    r['e'] = max_epochs\n",
    "    r['l'] = learning_rate\n",
    "    r['f'] = weight_file\n",
    "\n",
    "    return r\n",
    "\n",
    "\n",
    "def a(option, data, Net):\n",
    "    option = int(option)\n",
    "    if option is 1:\n",
    "        net_parameters = a1()\n",
    "        return madaline1(net_parameters, data)\n",
    "    if option is 2:\n",
    "        if Net is 0:\n",
    "            print(\"You need to train the net before you can deploy it. Try option 1.\")\n",
    "            menu(data, Net)\n",
    "        else:\n",
    "            name = input(\"Enter the file name where the testing/deploying results will be saved:\\n\")\n",
    "            madaline2(name, Net, data)\n",
    "    if option is 3:\n",
    "        print(\"Thanks for using this Madaline Neural Network!\")\n",
    "        exit(0)"
   ]
  },
  {
   "cell_type": "code",
   "execution_count": 71,
   "metadata": {},
   "outputs": [],
   "source": [
    "def menu(data, Net):\n",
    "    x = input(\"Enter 1 to train, 2 to test/deploy, or 3 to quit the network:\\n\")\n",
    "    return a(x, data, Net)\n",
    "\n",
    "\n",
    "def fileinput():\n",
    "    filename = input(\"Enter the data input file name:\\n\")\n",
    "    try:\n",
    "        open(filename, 'r')\n",
    "        return readFile(filename)\n",
    "    except:\n",
    "        try:\n",
    "            filename = filename + \".txt\"\n",
    "            open(filename, 'r')\n",
    "            return readFile(filename)\n",
    "        except:\n",
    "            print(\"File reading failed. Try again.\")\n",
    "            return fileinput()\n",
    "\n",
    "\n",
    "def main():\n",
    "    print(\"Welcome to my madaline neural network!\")\n",
    "    data = fileinput()\n",
    "    Net = 0\n",
    "    while (1):\n",
    "        Net = menu(data, Net)"
   ]
  },
  {
   "cell_type": "code",
   "execution_count": 72,
   "metadata": {},
   "outputs": [],
   "source": [
    "# THIS IS WHERE THE TRAINING MADALINE GETS IMPLEMENTED\n",
    "def madaline1(n, data):\n",
    "    learning_rate = float(n['l'])\n",
    "    weight_b = int(n['w'])\n",
    "    max_epochs = int(n['e'])\n",
    "    filename = n['f']\n",
    "    inputD = int(data.input)\n",
    "    outputD = int(data.output)\n",
    "    tpairs = int(data.pairs)\n",
    "    samples = data.samples\n",
    "\n",
    "    # samples has Sample objects in it\n",
    "    # samples[1:pairs+1] has each object\n",
    "    # samples[x].x[1:inputdimensions] is xy\n",
    "    # samples[x].t is t\n",
    "\n",
    "    f = open(filename, 'a+')\n",
    "    # net construction\n",
    "    myNet = Net(inputD, outputD, weight_b)\n",
    "    condition = False\n",
    "    z = {}\n",
    "    while (condition is False):  # step\n",
    "        i = 1\n",
    "        maxchange = 0\n",
    "        epoch = 1\n",
    "        while i <= tpairs:  # step 2\n",
    "            # step 3, set activations of input units\n",
    "            j = 1\n",
    "            while j <= inputD:\n",
    "                myNet.xneurons[j].x = float(samples[i].x[j])\n",
    "                j = j + 1\n",
    "            # step 4, compute net input to each hidden ADALINE unit:\n",
    "            k = 1\n",
    "            zin = {}\n",
    "            while k <= inputD:\n",
    "                zin[k] = float(myNet.xneurons['b'].weights[k])\n",
    "\n",
    "                l = 1\n",
    "                while l <= inputD:\n",
    "                    zin[k] = float(zin[k]) + float(float(myNet.xneurons[l].x) * float(myNet.xneurons[l].weights[k]))\n",
    "                    l = l + 1\n",
    "                k = k + 1\n",
    "\n",
    "            # step 5, determine output of ADALINE unit\n",
    "            x = 1\n",
    "            while x <= inputD:\n",
    "                if zin[x] >= 0:\n",
    "                    myNet.zneurons[x].x = 1\n",
    "                else:\n",
    "                    myNet.zneurons[x].x = -1\n",
    "                x = x + 1\n",
    "\n",
    "            # step 6, determine output of net\n",
    "            k = 1\n",
    "            yin = {}\n",
    "            while k <= outputD:\n",
    "                yin[k] = .5\n",
    "                l = 1\n",
    "                while l <= inputD:\n",
    "                    yin[k] = yin[k] + (.5 * myNet.zneurons[l].x)\n",
    "                    l = l + 1\n",
    "                k = k + 1\n",
    "            k = 1\n",
    "            while k <= outputD:\n",
    "                if yin[k] >= 0:\n",
    "                    myNet.y[k] = 1\n",
    "                else:\n",
    "                    myNet.y[k] = -1\n",
    "                k = k + 1\n",
    "            # step 7, determine error and update weights\n",
    "\n",
    "            target = samples[i].t[1]\n",
    "            if int(target) != myNet.y[1]:\n",
    "                if target == -1:\n",
    "                    x = 1\n",
    "                    while x <= inputD:\n",
    "                        if zin[x] >= 0:\n",
    "                            delta = algorithmx(learning_rate, zin[x], 1, -1)\n",
    "                            myNet.xneurons['b'].weights[x] = myNet.xneurons['b'].weights[x] + delta\n",
    "                            if delta < 0:\n",
    "                                delta = delta * -1\n",
    "                            if delta > maxchange:\n",
    "                                maxchange = delta\n",
    "                            n = 1\n",
    "                            while n <= inputD:\n",
    "                                delta = algorithmx(learning_rate, zin[x], myNet.xneurons[n].x, -1)\n",
    "                                myNet.xneurons[n].weights[x] = myNet.xneurons[n].weights[x] + delta\n",
    "                                if delta < 0:\n",
    "                                    delta = delta * -1\n",
    "                                if delta > maxchange:\n",
    "                                    maxchange = delta\n",
    "                                n = n + 1\n",
    "                        x = x + 1\n",
    "\n",
    "                elif target == 1:\n",
    "                    x = 1\n",
    "                    j = 1\n",
    "                    z = 0\n",
    "                    smallest = 1000000\n",
    "                    while x <= inputD:\n",
    "                        z = zin[x]\n",
    "                        if z < 0:\n",
    "                            z = z * -1\n",
    "                        if z < smallest:\n",
    "                            j = x\n",
    "                        smallest= z\n",
    "                        x = x + 1\n",
    "                    # here, j has node to update\n",
    "                    delta = algorithmx(learning_rate, zin[j], 1, 1)\n",
    "                    myNet.xneurons['b'].weights[j] = myNet.xneurons['b'].weights[j] + delta\n",
    "                    if delta < 1:\n",
    "                        delta = delta * -1\n",
    "                    if delta > maxchange:\n",
    "                        maxchange = delta\n",
    "\n",
    "                    n = 1\n",
    "                    while n <= inputD:\n",
    "                        delta = algorithmx(learning_rate, zin[j], myNet.xneurons[n].x, 1)\n",
    "                        myNet.xneurons[n].weights[j] = myNet.xneurons[n].weights[j] + delta\n",
    "                        if delta < 0:\n",
    "                            delta = delta * -1\n",
    "                        if delta > maxchange:\n",
    "                            maxchange = delta\n",
    "                        n = n + 1\n",
    "            # step 8, test stopping condition\n",
    "            if i == 4:\n",
    "                if maxchange < .001:\n",
    "                    print(\"Learning has converged after\", epoch, \"epochs.\")\n",
    "                    condition = True\n",
    "                    break\n",
    "                if epoch == max_epochs:\n",
    "                    print(\"Maximum epochs reached.\")\n",
    "                    condition = True\n",
    "                    break\n",
    "                i = 0\n",
    "                maxchange = 0\n",
    "                epoch = epoch + 1\n",
    "            i = i + 1\n",
    "\n",
    "    # we need to return the Net for the testing/deploying\n",
    "\n",
    "    # OUTPUT WEIGHTS TO FILE AND RETURN NET\n",
    "    n = 1\n",
    "    while n <= inputD:\n",
    "        f.write(\"xneuron: \\n\")\n",
    "        f.write(str(myNet.xneurons[n].weights[1]) + \" \" + str(myNet.xneurons[n].weights[2]) + \"\\n\")\n",
    "        n += 1\n",
    "    f.write(\"\\n\")\n",
    "    f.write(\"xnueron bias: \\n\")\n",
    "    f.write(str(myNet.xneurons['b'].weights[1]) + \" \" + str(myNet.xneurons['b'].weights[2]) + \"\\n\")\n",
    "    f.write(\"\\n\")\n",
    "    f.close()\n",
    "\n",
    "    return myNet"
   ]
  },
  {
   "cell_type": "code",
   "execution_count": null,
   "metadata": {},
   "outputs": [],
   "source": [
    "def algorithmx(a, zin, x, t):\n",
    "    return float(a) * float((float(t) - float(zin))) * float(x)\n",
    "\n",
    "\n",
    "# THIS IS WHERE THE TESTING MADALINE GETS IMPLEMENTED\n",
    "def madaline2(name, Net, data):\n",
    "    f = open(name, 'w+')\n",
    "    # FORCED DOT TXT EXTENSION IS AN INTENTIONAL DESIGN DECISION\n",
    "    samples = data.samples\n",
    "    iD = data.input\n",
    "    oD = data.output\n",
    "    p = data.pairs\n",
    "\n",
    "    s = 1\n",
    "\n",
    "    while s <= p:\n",
    "        # set x to s\n",
    "        x = 1\n",
    "        while x <= iD:\n",
    "            Net.xneurons[x].x = samples[s].x[x]\n",
    "            x = x + 1\n",
    "\n",
    "        # set activation of input units\n",
    "        x = 1\n",
    "        zin = {}\n",
    "        while x <= iD:\n",
    "            zin[x] = float(Net.xneurons['b'].weights[x])\n",
    "            y = 1\n",
    "            while y <= iD:\n",
    "                zin[x] = float(zin[x]) + (float(Net.xneurons[y].x) * float(Net.xneurons[y].weights[x]))\n",
    "                y = y + 1\n",
    "            x = x + 1\n",
    "\n",
    "        # determine output of ADALINE unit\n",
    "        x = 1\n",
    "        while x <= iD:\n",
    "            if zin[x] >= 0:\n",
    "                Net.zneurons[x].x = 1\n",
    "            else:\n",
    "                Net.zneurons[x].x = -1\n",
    "            x = x + 1\n",
    "\n",
    "        # determine output of the net:\n",
    "        x = 1\n",
    "        yin = {}\n",
    "        while x <= oD:\n",
    "            yin[x] = Net.zneurons['b'].weights[x]\n",
    "            y = 1\n",
    "            while y <= iD:\n",
    "                yin[x] = yin[x] + (Net.zneurons[y].weights[x] * Net.zneurons[y].x)\n",
    "                y = y + 1\n",
    "            x = x + 1\n",
    "        x = 1\n",
    "        while x <= oD:\n",
    "            if yin[x] >= 0:\n",
    "                Net.y[x] = 1\n",
    "                f.write(str(Net.y[x]) + \"\\n\")\n",
    "            else:\n",
    "                Net.y[x] = -1\n",
    "                f.write(str(Net.y[x]) + \"\\n\")\n",
    "            x = x + 1\n",
    "        s = s + 1\n",
    "    # ENDLOOP\n",
    "    print (\"testing output saved to: \" + name)\n",
    "    f.close()\n",
    "\n",
    "\n",
    "if __name__ == '__main__':\n",
    "    main()"
   ]
  },
  {
   "cell_type": "markdown",
   "metadata": {},
   "source": [
    "### **Question 2**"
   ]
  },
  {
   "cell_type": "code",
   "execution_count": 64,
   "metadata": {},
   "outputs": [],
   "source": [
    "import numpy as np\n",
    "import matplotlib.pyplot as plt\n",
    "import math\n",
    "\n",
    "LEARNING_RATE = 0.45"
   ]
  },
  {
   "cell_type": "code",
   "execution_count": 65,
   "metadata": {},
   "outputs": [],
   "source": [
    "def step(x):\n",
    "    if (x > 0):\n",
    "        return 1\n",
    "    else:\n",
    "        return 0\n",
    "INPUTS = np.array([[0,-1,1],\n",
    "                  [0,1,1],\n",
    "                 [1,0,1],\n",
    "                 [1,1,1] ])\n",
    "\n",
    "# output dataset - Only output a -1 if both inputs are -1   "
   ]
  },
  {
   "cell_type": "code",
   "execution_count": 66,
   "metadata": {},
   "outputs": [
    {
     "name": "stdout",
     "output_type": "stream",
     "text": [
      "Random Weights before training [[-0.16595599]\n",
      " [ 0.44064899]\n",
      " [-0.99977125]]\n"
     ]
    }
   ],
   "source": [
    "OUTPUTS = np.array([[0,1,1,0]]).T\n",
    "np.random.seed(1)\n",
    "WEIGHTS = 2*np.random.random((3,1)) - 1\n",
    "print(\"Random Weights before training\", WEIGHTS)"
   ]
  },
  {
   "cell_type": "code",
   "execution_count": 67,
   "metadata": {},
   "outputs": [],
   "source": [
    "# Use this list to store the errors\n",
    "errors=[]\n",
    "for iter in range(100):\n",
    "    for input_item,desired in zip(INPUTS, OUTPUTS):   \n",
    "        # Feed this input forward and calculate the ADALINE output\n",
    "        ADALINE_OUTPUT = (input_item[0]*WEIGHTS[0]) + (input_item[1]*WEIGHTS[1]) + (input_item[2]*WEIGHTS[2])\n",
    "        # Run ADALINE_OUTPUT through the step function\n",
    "        ADALINE_OUTPUT = step(ADALINE_OUTPUT)\n",
    "        # Calculate the ERROR generated\n",
    "        ERROR = desired - ADALINE_OUTPUT\n",
    "        # Store the ERROR\n",
    "        errors.append(ERROR)  \n",
    "        # Update the weights based on the delta rule\n",
    "        WEIGHTS[0] = WEIGHTS[0] + LEARNING_RATE * ERROR * input_item[0]\n",
    "        WEIGHTS[1] = WEIGHTS[1] + LEARNING_RATE * ERROR * input_item[1]\n",
    "        WEIGHTS[2] = WEIGHTS[2] + LEARNING_RATE * ERROR * input_item[2]"
   ]
  },
  {
   "cell_type": "code",
   "execution_count": 68,
   "metadata": {},
   "outputs": [
    {
     "name": "stdout",
     "output_type": "stream",
     "text": [
      "New Weights after training [[-0.61595599]\n",
      " [-0.00935101]\n",
      " [-0.09977125]]\n",
      "Actual  0 Desired  [0]\n",
      "Actual  0 Desired  [1]\n",
      "Actual  0 Desired  [1]\n",
      "Actual  0 Desired  [0]\n"
     ]
    }
   ],
   "source": [
    "print(\"New Weights after training\", WEIGHTS)\n",
    "for input_item,desired in zip(INPUTS, OUTPUTS):\n",
    "    # Feed this input forward and calculate the ADALINE output\n",
    "    ADALINE_OUTPUT = (input_item[0]*WEIGHTS[0]) + (input_item[1]*WEIGHTS[1]) + (input_item[2]*WEIGHTS[2])\n",
    "    # Run ADALINE_OUTPUT through the step function\n",
    "    ADALINE_OUTPUT = step(ADALINE_OUTPUT)\n",
    "    print(\"Actual \", ADALINE_OUTPUT, \"Desired \", desired)"
   ]
  },
  {
   "cell_type": "code",
   "execution_count": 69,
   "metadata": {},
   "outputs": [
    {
     "data": {
      "image/png": "[encoded data removed]",
      "text/plain": [
       "<Figure size 432x288 with 1 Axes>"
      ]
     },
     "metadata": {
      "needs_background": "light"
     },
     "output_type": "display_data"
    }
   ],
   "source": [
    "# Plot the errors to see how we did during training\n",
    "ax = plt.subplot(111)\n",
    "ax.plot(errors, c='#aaaaff', label='Training Errors')\n",
    "ax.set_xscale(\"log\")\n",
    "plt.title(\"ADALINE Errors (2,-2)\")\n",
    "plt.legend()\n",
    "plt.xlabel('Error')\n",
    "plt.ylabel('Value')\n",
    "plt.show()"
   ]
  },
  {
   "cell_type": "code",
   "execution_count": null,
   "metadata": {},
   "outputs": [],
   "source": []
  },
  {
   "cell_type": "markdown",
   "metadata": {},
   "source": [
    "### **Question 1**"
   ]
  },
  {
   "cell_type": "code",
   "execution_count": 25,
   "metadata": {},
   "outputs": [],
   "source": [
    "import numpy as np\n",
    "import matplotlib.pyplot as plt\n",
    "import math\n",
    "\n",
    "LEARNING_RATE = 0.45"
   ]
  },
  {
   "cell_type": "code",
   "execution_count": 26,
   "metadata": {},
   "outputs": [
    {
     "name": "stdout",
     "output_type": "stream",
     "text": [
      "Random Weights before training [[-0.16595599]\n",
      " [ 0.44064899]\n",
      " [-0.99977125]]\n"
     ]
    }
   ],
   "source": [
    "# Step function\n",
    "def step(x):\n",
    "    if (x > 0):\n",
    "        return 1\n",
    "    else:\n",
    "        return 0\n",
    "INPUTS = np.array([[0,0,1],\n",
    "                   [0,1,1],\n",
    "                   [1,0,1],\n",
    "                   [1,1,1] ])\n",
    "OUTPUTS = np.array([[0,1,1,1]]).T\n",
    "np.random.seed(1)\n",
    "WEIGHTS = 2*np.random.random((3,1)) - 1\n",
    "print(\"Random Weights before training\", WEIGHTS)"
   ]
  },
  {
   "cell_type": "code",
   "execution_count": 27,
   "metadata": {},
   "outputs": [],
   "source": [
    "errors=[]\n",
    "for iter in range(100):\n",
    "\n",
    "    for input_item,desired in zip(INPUTS, OUTPUTS):\n",
    "        \n",
    "        \n",
    "        ADALINE_OUTPUT = (input_item[0]*WEIGHTS[0]) + (input_item[1]*WEIGHTS[1]) + (input_item[2]*WEIGHTS[2])\n",
    "\n",
    "        \n",
    "        ADALINE_OUTPUT = step(ADALINE_OUTPUT)\n",
    "\n",
    "        \n",
    "        ERROR = desired - ADALINE_OUTPUT\n",
    "        errors.append(ERROR)\n",
    "        \n",
    "        # Update the weights based on the delta rule\n",
    "        WEIGHTS[0] = WEIGHTS[0] + LEARNING_RATE * ERROR * input_item[0]\n",
    "        WEIGHTS[1] = WEIGHTS[1] + LEARNING_RATE * ERROR * input_item[1]\n",
    "        WEIGHTS[2] = WEIGHTS[2] + LEARNING_RATE * ERROR * input_item[2]"
   ]
  },
  {
   "cell_type": "code",
   "execution_count": 28,
   "metadata": {},
   "outputs": [
    {
     "name": "stdout",
     "output_type": "stream",
     "text": [
      "New Weights after training [[ 0.28404401]\n",
      " [ 0.89064899]\n",
      " [-0.09977125]]\n",
      "Actual  0 Desired  [0]\n",
      "Actual  1 Desired  [1]\n",
      "Actual  1 Desired  [1]\n",
      "Actual  1 Desired  [1]\n"
     ]
    },
    {
     "data": {
      "image/png": "[encoded data removed]",
      "text/plain": [
       "<Figure size 432x288 with 1 Axes>"
      ]
     },
     "metadata": {
      "needs_background": "light"
     },
     "output_type": "display_data"
    }
   ],
   "source": [
    "print(\"New Weights after training\", WEIGHTS)\n",
    "for input_item,desired in zip(INPUTS, OUTPUTS):\n",
    "    \n",
    "    ADALINE_OUTPUT = (input_item[0]*WEIGHTS[0]) + (input_item[1]*WEIGHTS[1]) + (input_item[2]*WEIGHTS[2])\n",
    "\n",
    "    \n",
    "    ADALINE_OUTPUT = step(ADALINE_OUTPUT)\n",
    "\n",
    "    print(\"Actual \", ADALINE_OUTPUT, \"Desired \", desired)\n",
    "\n",
    "ax = plt.subplot(111)\n",
    "ax.plot(errors, c='#aaaaff', label='Training Errors')\n",
    "ax.set_xscale(\"log\")\n",
    "plt.title(\"ADALINE Errors (2,-2)\")\n",
    "plt.legend()\n",
    "plt.xlabel('Error')\n",
    "plt.ylabel('Value')\n",
    "plt.show()\n"
   ]
  },
  {
   "cell_type": "code",
   "execution_count": null,
   "metadata": {},
   "outputs": [],
   "source": []
  }
 ],
 "metadata": {
  "kernelspec": {
   "display_name": "Python 3",
   "language": "python",
   "name": "python3"
  },
  "language_info": {
   "codemirror_mode": {
    "name": "ipython",
    "version": 3
   },
   "file_extension": ".py",
   "mimetype": "text/x-python",
   "name": "python",
   "nbconvert_exporter": "python",
   "pygments_lexer": "ipython3",
   "version": "3.6.8"
  }
 },
 "nbformat": 4,
 "nbformat_minor": 2
}
